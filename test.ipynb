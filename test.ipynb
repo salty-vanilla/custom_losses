{
 "cells": [
  {
   "cell_type": "code",
   "execution_count": 320,
   "metadata": {
    "collapsed": true
   },
   "outputs": [],
   "source": [
    "import tensorflow as tf\n",
    "import numpy as np\n",
    "import matplotlib.pyplot as plt\n",
    "%matplotlib inline"
   ]
  },
  {
   "cell_type": "code",
   "execution_count": 321,
   "metadata": {
    "collapsed": false
   },
   "outputs": [],
   "source": [
    "sess = tf.InteractiveSession()"
   ]
  },
  {
   "cell_type": "code",
   "execution_count": 322,
   "metadata": {
    "collapsed": true
   },
   "outputs": [],
   "source": [
    "def make_gauss_kernel(kernel_size, sigma):\n",
    "    _y, _x = np.mgrid[-kernel_size[1]//2 + 1: kernel_size[1]//2 + 1,\n",
    "                      -kernel_size[0]//2 + 1: kernel_size[0]//2 + 1]\n",
    "    \n",
    "    _x = _x.reshape(list(_x.shape) + [1, 1])\n",
    "    _y = _y.reshape(list(_y.shape) + [1, 1])\n",
    "    x = tf.constant(_x, dtype=tf.float32)\n",
    "    y = tf.constant(_y, dtype=tf.float32)\n",
    "    \n",
    "    g = tf.exp(-(x**2 + y**2) / (2.0*sigma**2))\n",
    "    return g / tf.reduce_sum(g)"
   ]
  },
  {
   "cell_type": "code",
   "execution_count": 323,
   "metadata": {
    "collapsed": true
   },
   "outputs": [],
   "source": [
    "def ssim_loss(y_true, y_pred, \n",
    "              L=1.0, K1=0.01, K2=0.03,\n",
    "              kernel_size=(3, 3), sigma=1.0):    \n",
    "    bs, h, w, c = y_true.shape\n",
    "    \n",
    "    _y_true = tf.constant(np.array(y_true))\n",
    "    _y_pred = tf.constant(np.array(y_pred))\n",
    "    \n",
    "    _y_true = tf.transpose(_y_true, (0, 3, 1, 2))\n",
    "    _y_pred = tf.transpose(_y_pred, (0, 3, 1, 2))\n",
    "    \n",
    "    _y_true = tf.reshape(_y_true, (bs*c, h, w))\n",
    "    _y_pred = tf.reshape(_y_pred, (bs*c, h, w))\n",
    "    \n",
    "    _y_true = tf.expand_dims(_y_true, axis=-1)\n",
    "    _y_pred = tf.expand_dims(_y_pred, axis=-1)\n",
    "    \n",
    "    g_kernel = make_gauss_kernel(kernel_size, sigma)\n",
    "    C1 = (K1*L) ** 2\n",
    "    C2 = (K2*L) ** 2\n",
    "    \n",
    "    mu_true = tf.nn.conv2d(_y_true, g_kernel, strides=[1, 1, 1, 1], padding='VALID')\n",
    "    mu_pred = tf.nn.conv2d(_y_pred, g_kernel, strides=[1, 1, 1, 1], padding='VALID')\n",
    "    \n",
    "    mu_true_true = mu_true * mu_true\n",
    "    mu_pred_pred = mu_pred * mu_pred\n",
    "    mu_true_pred = mu_true * mu_pred\n",
    "\n",
    "    sigma_true_true = tf.nn.conv2d(_y_true*_y_true, g_kernel, strides=[1, 1, 1, 1], padding='VALID') - mu_true_true    \n",
    "    sigma_pred_pred = tf.nn.conv2d(_y_pred*_y_pred, g_kernel, strides=[1, 1, 1, 1], padding='VALID') - mu_pred_pred\n",
    "    sigma_true_pred = tf.nn.conv2d(_y_true*_y_pred, g_kernel, strides=[1, 1, 1, 1], padding='VALID') - mu_true_pred\n",
    "\n",
    "    loss = (2*mu_true_pred + C1) * (2*sigma_true_pred + C2)\n",
    "    loss /= (mu_true_true + mu_pred_pred + C1) * (sigma_true_true + sigma_pred_pred + C2)\n",
    "    return tf.reduce_mean(loss)"
   ]
  },
  {
   "cell_type": "code",
   "execution_count": 362,
   "metadata": {},
   "outputs": [],
   "source": [
    "import cv2\n",
    "image = cv2.imread('./images/Lenna.png')\n",
    "image_ = cv2.imread('./images/Lenna.png')\n",
    "\n",
    "image = image.astype('float32') / 255\n",
    "image_ = image_.astype('float32') / 255\n",
    "\n",
    "image = np.expand_dims(image, 0)\n",
    "image_ = np.expand_dims(image_, 0)\n",
    "\n",
    "# ssim_loss(image, image_).eval()"
   ]
  },
  {
   "cell_type": "code",
   "execution_count": 366,
   "metadata": {},
   "outputs": [],
   "source": [
    "def make_gaussian_pyramid(x, max_level=5, kernel_size=(3, 3), sigma=1.0, gaussian_iteration=1):\n",
    "    bs, h, w, c = x.shape\n",
    "    _x = tf.transpose(x, (0, 3, 1, 2))\n",
    "    _x = tf.reshape(_x, (bs*c, h, w))\n",
    "    _x = tf.expand_dims(_x, axis=-1)\n",
    "    pyramid = [_x]\n",
    "    g_kernel = make_gauss_kernel(kernel_size, sigma)\n",
    "    for level in range(max_level):\n",
    "        current = pyramid[-1]\n",
    "        downsampled = tf.nn.avg_pool(current, [1, 2, 2, 1], [1, 2, 2, 1], padding='VALID')\n",
    "        filtered = downsampled\n",
    "        for _ in range(gaussian_iteration):\n",
    "            filtered = tf.nn.conv2d(filtered, g_kernel, strides=[1, 1, 1, 1], padding='SAME')\n",
    "        pyramid.append(filtered)\n",
    "    return pyramid"
   ]
  },
  {
   "cell_type": "code",
   "execution_count": 367,
   "metadata": {},
   "outputs": [
    {
     "data": {
      "text/plain": [
       "[<tf.Tensor 'ExpandDims_11:0' shape=(3, 512, 512, 1) dtype=float32>,\n <tf.Tensor 'Conv2D_352:0' shape=(3, 256, 256, 1) dtype=float32>,\n <tf.Tensor 'Conv2D_353:0' shape=(3, 128, 128, 1) dtype=float32>,\n <tf.Tensor 'Conv2D_354:0' shape=(3, 64, 64, 1) dtype=float32>,\n <tf.Tensor 'Conv2D_355:0' shape=(3, 32, 32, 1) dtype=float32>,\n <tf.Tensor 'Conv2D_356:0' shape=(3, 16, 16, 1) dtype=float32>]"
      ]
     },
     "execution_count": 367,
     "metadata": {},
     "output_type": "execute_result"
    }
   ],
   "source": [
    "make_gaussian_pyramid(image)"
   ]
  },
  {
   "cell_type": "code",
   "execution_count": 368,
   "metadata": {},
   "outputs": [],
   "source": [
    "def make_laplacian_pyramid(x, max_level=5, kernel_size=(3, 3), sigma=1.0, gaussian_iteration=1):\n",
    "    g_pyr = make_gaussian_pyramid(x, max_level, kernel_size, sigma, gaussian_iteration)\n",
    "    l_pyr = []\n",
    "    for level in range(max_level):\n",
    "        high_reso = g_pyr[level]\n",
    "        low_reso = g_pyr[level+1]\n",
    "        \n",
    "        bs, h, w, c = high_reso.get_shape().as_list()\n",
    "        up_low_reso = tf.image.resize_bilinear(low_reso, size=(w, h))\n",
    "        \n",
    "        diff = high_reso - up_low_reso\n",
    "        l_pyr.append(diff)\n",
    "    return l_pyr"
   ]
  },
  {
   "cell_type": "code",
   "execution_count": 369,
   "metadata": {},
   "outputs": [
    {
     "data": {
      "text/plain": [
       "[<tf.Tensor 'sub_126:0' shape=(3, 512, 512, 1) dtype=float32>,\n <tf.Tensor 'sub_127:0' shape=(3, 256, 256, 1) dtype=float32>,\n <tf.Tensor 'sub_128:0' shape=(3, 128, 128, 1) dtype=float32>,\n <tf.Tensor 'sub_129:0' shape=(3, 64, 64, 1) dtype=float32>,\n <tf.Tensor 'sub_130:0' shape=(3, 32, 32, 1) dtype=float32>]"
      ]
     },
     "execution_count": 369,
     "metadata": {},
     "output_type": "execute_result"
    }
   ],
   "source": [
    "make_laplacian_pyramid(image)"
   ]
  },
  {
   "cell_type": "code",
   "execution_count": null,
   "metadata": {},
   "outputs": [],
   "source": [
    ""
   ]
  }
 ],
 "metadata": {
  "kernelspec": {
   "display_name": "Python 3",
   "language": "python",
   "name": "python3"
  },
  "language_info": {
   "codemirror_mode": {
    "name": "ipython",
    "version": 3
   },
   "file_extension": ".py",
   "mimetype": "text/x-python",
   "name": "python",
   "nbconvert_exporter": "python",
   "pygments_lexer": "ipython3",
   "version": "3.5.2"
  }
 },
 "nbformat": 4,
 "nbformat_minor": 0
}
